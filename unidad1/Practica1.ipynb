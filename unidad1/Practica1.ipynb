{
  "nbformat": 4,
  "nbformat_minor": 0,
  "metadata": {
    "colab": {
      "provenance": [],
      "authorship_tag": "ABX9TyOXKfaCCeyy07eAfq0bVMdm",
      "include_colab_link": true
    },
    "kernelspec": {
      "name": "python3",
      "display_name": "Python 3"
    },
    "language_info": {
      "name": "python"
    }
  },
  "cells": [
    {
      "cell_type": "markdown",
      "metadata": {
        "id": "view-in-github",
        "colab_type": "text"
      },
      "source": [
        "<a href=\"https://colab.research.google.com/github/cesarpastrana806-lab/Programacion-orentada-a-objetodos/blob/main/unidad1/Practica1.ipynb\" target=\"_parent\"><img src=\"https://colab.research.google.com/assets/colab-badge.svg\" alt=\"Open In Colab\"/></a>"
      ]
    },
    {
      "cell_type": "markdown",
      "source": [],
      "metadata": {
        "id": "Qaiid5DNLuNc"
      }
    },
    {
      "cell_type": "markdown",
      "metadata": {
        "id": "uKjVFnOIJgrD"
      },
      "source": [
        "![image](https://github.com/JoseGabriel-ITD/Probabilidad-y-Estadistica/blob/main/Cintilla2004.png?raw=true)\n",
        "\n",
        "# **Programacion orientada a objetos**\n",
        "\n",
        "## Unidad 1\n",
        "\n",
        "### Practica 1. introduccion\n",
        "\n",
        "### Facilitador: *Dr. José Gabriel Rodríguez Rivas*\n",
        "\n",
        "### Alumno: Cesar Guillermo Pastrana Canales\n"
      ]
    },
    {
      "cell_type": "code",
      "execution_count": 1,
      "metadata": {
        "colab": {
          "base_uri": "https://localhost:8080/"
        },
        "id": "DQ5F00p_KSEQ",
        "outputId": "c7442ca4-78d5-4d56-aab5-46b05c472b8c"
      },
      "outputs": [
        {
          "output_type": "stream",
          "name": "stdout",
          "text": [
            "Escribe tu nombre: cesar\n",
            "Tu nombre es:  cesar\n"
          ]
        }
      ],
      "source": [
        "variable = input(\"Escribe tu nombre: \")\n",
        "print(\"Tu nombre es: \", variable )"
      ]
    },
    {
      "cell_type": "code",
      "source": [
        "nom = input(\"¿Me puedes dar tu nombre por favor? \")\n",
        "apellido = input(\"¿Me puedes dar tu apellido por favor? \")\n",
        "print(\"Gracias.\")\n",
        "print(\"\\nTu nombre es: \" + nom + \" \" + apellido + \".\")\n",
        "print(\"\\nTu nombre es: \", nom, apellido, \".\")"
      ],
      "metadata": {
        "colab": {
          "base_uri": "https://localhost:8080/"
        },
        "id": "mw_N_9pIKTIL",
        "outputId": "fd0d04a7-bedb-4c92-a61e-6caf959dd670"
      },
      "execution_count": 2,
      "outputs": [
        {
          "output_type": "stream",
          "name": "stdout",
          "text": [
            "¿Me puedes dar tu nombre por favor? cesar\n",
            "¿Me puedes dar tu apellido por favor? pastrana\n",
            "Gracias.\n",
            "\n",
            "Tu nombre es: cesar pastrana.\n",
            "\n",
            "Tu nombre es:  cesar pastrana .\n"
          ]
        }
      ]
    },
    {
      "cell_type": "code",
      "source": [
        "# Marca error porque se debe convertir el tipo de dato.\n",
        "x = input(\"Dame un numero para multiplicar \")\n",
        "z = x * 5\n",
        "print(z)"
      ],
      "metadata": {
        "id": "I19ZqudaKepE"
      },
      "execution_count": null,
      "outputs": []
    },
    {
      "cell_type": "code",
      "source": [
        "x = int(input(\"Dame un numero para multiplicar: \"))\n",
        "z = x * 5\n",
        "print(z)"
      ],
      "metadata": {
        "id": "g7FkoaSwKfae"
      },
      "execution_count": null,
      "outputs": []
    },
    {
      "cell_type": "code",
      "source": [
        "cateto_a = float(input(\"Inserta la longitud del primmer cateto: \"))\n",
        "cateto_b = float(input(\"Inserta la longitud del segundo cateto: \"))\n",
        "hipo = (cateto_a**2 + cateto_b**2)**.5\n",
        "print(\"La longitud de la hipotenusa es: \", hipo )"
      ],
      "metadata": {
        "id": "6VOw3wVPKhxz"
      },
      "execution_count": null,
      "outputs": []
    },
    {
      "cell_type": "code",
      "source": [],
      "metadata": {
        "id": "sSM5u1C5KkLP"
      },
      "execution_count": null,
      "outputs": []
    }
  ]
}