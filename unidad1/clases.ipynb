{
  "nbformat": 4,
  "nbformat_minor": 0,
  "metadata": {
    "colab": {
      "provenance": [],
      "authorship_tag": "ABX9TyOhp4vKamK1ABnJmUxPXkj/",
      "include_colab_link": true
    },
    "kernelspec": {
      "name": "python3",
      "display_name": "Python 3"
    },
    "language_info": {
      "name": "python"
    }
  },
  "cells": [
    {
      "cell_type": "markdown",
      "metadata": {
        "id": "view-in-github",
        "colab_type": "text"
      },
      "source": [
        "<a href=\"https://colab.research.google.com/github/cesarpastrana806-lab/Programacion-orentada-a-objetodos/blob/main/unidad1/clases.ipynb\" target=\"_parent\"><img src=\"https://colab.research.google.com/assets/colab-badge.svg\" alt=\"Open In Colab\"/></a>"
      ]
    },
    {
      "cell_type": "code",
      "execution_count": 7,
      "metadata": {
        "id": "ObgA-yEwgsGD"
      },
      "outputs": [],
      "source": [
        "class Libro:\n",
        "  def __init__(self, titulo, autor, isbn, precio): #constructor de la clase\n",
        "    self.titulo = titulo\n",
        "    self.autor = autor\n",
        "    self.isbn = isbn\n",
        "    self.precio = precio\n",
        "\n",
        "  def mostrar_info(self):  #Metodo\n",
        "    return f\"{self.titulo} por {self.autor} -ISBN: {self.isbn}, Precio: ${self.precio}\""
      ]
    },
    {
      "cell_type": "code",
      "source": [
        "libro1 = Libro(\"Cien años de soledad\", \"Gabriel García Márquez\", \"978-0307474728\", 350.00)\n",
        "libro2 = Libro(\"1984\", \"George Orwell\", \"978-0451524935\", 220.00)"
      ],
      "metadata": {
        "id": "eXfiSnCMkKAD"
      },
      "execution_count": 8,
      "outputs": []
    },
    {
      "cell_type": "code",
      "source": [
        "\n",
        "print(libro1.mostrar_info())\n",
        "print(libro2.mostrar_info())"
      ],
      "metadata": {
        "id": "ifDJ1cNDkuwY"
      },
      "execution_count": null,
      "outputs": []
    }
  ]
}