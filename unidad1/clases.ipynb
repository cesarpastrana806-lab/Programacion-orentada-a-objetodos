{
  "nbformat": 4,
  "nbformat_minor": 0,
  "metadata": {
    "colab": {
      "provenance": [],
      "authorship_tag": "ABX9TyPX2CukivzUjG6JepxZltSK",
      "include_colab_link": true
    },
    "kernelspec": {
      "name": "python3",
      "display_name": "Python 3"
    },
    "language_info": {
      "name": "python"
    }
  },
  "cells": [
    {
      "cell_type": "markdown",
      "metadata": {
        "id": "view-in-github",
        "colab_type": "text"
      },
      "source": [
        "<a href=\"https://colab.research.google.com/github/cesarpastrana806-lab/Programacion-orentada-a-objetodos/blob/main/unidad1/clases.ipynb\" target=\"_parent\"><img src=\"https://colab.research.google.com/assets/colab-badge.svg\" alt=\"Open In Colab\"/></a>"
      ]
    },
    {
      "cell_type": "markdown",
      "source": [],
      "metadata": {
        "id": "Y0NkF2n3NFpc"
      }
    },
    {
      "cell_type": "markdown",
      "metadata": {
        "id": "uKjVFnOIJgrD"
      },
      "source": [
        "![image](https://github.com/JoseGabriel-ITD/Probabilidad-y-Estadistica/blob/main/Cintilla2004.png?raw=true)\n",
        "\n",
        "# **Probabilidad y estadística**\n",
        "\n",
        "## Unidad 1\n",
        "\n",
        "### Practica 2. clases\n",
        "\n",
        "### Facilitador: *Dr. José Gabriel Rodríguez Rivas*\n",
        "\n",
        "### Alumno: Cesar Guillermo Pastrana Canales\n"
      ]
    },
    {
      "cell_type": "code",
      "execution_count": null,
      "metadata": {
        "id": "ObgA-yEwgsGD"
      },
      "outputs": [],
      "source": [
        "class Libro:\n",
        "  def __init__(self, titulo, autor, isbn, precio): #constructor de la clase\n",
        "    self.titulo = titulo\n",
        "    self.autor = autor\n",
        "    self.isbn = isbn\n",
        "    self.precio = precio\n",
        "\n",
        "  def mostrar_info(self):  #Metodo\n",
        "    return f\"{self.titulo} por {self.autor} -ISBN: {self.isbn}, Precio: ${self.precio}\""
      ]
    },
    {
      "cell_type": "code",
      "source": [
        "libro1 = Libro(\"Cien años de soledad\", \"Gabriel García Márquez\", \"978-0307474728\", 350.00)\n",
        "libro2 = Libro(\"1984\", \"George Orwell\", \"978-0451524935\", 220.00)"
      ],
      "metadata": {
        "id": "eXfiSnCMkKAD"
      },
      "execution_count": null,
      "outputs": []
    },
    {
      "cell_type": "code",
      "source": [
        "\n",
        "print(libro1.mostrar_info())\n",
        "print(libro2.mostrar_info())"
      ],
      "metadata": {
        "id": "ifDJ1cNDkuwY"
      },
      "execution_count": null,
      "outputs": []
    }
  ]
}