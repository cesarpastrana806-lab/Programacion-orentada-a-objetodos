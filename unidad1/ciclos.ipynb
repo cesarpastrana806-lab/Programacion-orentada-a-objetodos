{
  "nbformat": 4,
  "nbformat_minor": 0,
  "metadata": {
    "colab": {
      "provenance": [],
      "authorship_tag": "ABX9TyM/bsLXlSiZb+DbIstNhN2X",
      "include_colab_link": true
    },
    "kernelspec": {
      "name": "python3",
      "display_name": "Python 3"
    },
    "language_info": {
      "name": "python"
    }
  },
  "cells": [
    {
      "cell_type": "markdown",
      "metadata": {
        "id": "view-in-github",
        "colab_type": "text"
      },
      "source": [
        "<a href=\"https://colab.research.google.com/github/cesarpastrana806-lab/Programacion-orentada-a-objetodos/blob/main/unidad1/ciclos.ipynb\" target=\"_parent\"><img src=\"https://colab.research.google.com/assets/colab-badge.svg\" alt=\"Open In Colab\"/></a>"
      ]
    },
    {
      "cell_type": "code",
      "execution_count": null,
      "metadata": {
        "id": "M_qT3xISm1_a"
      },
      "outputs": [],
      "source": [
        "a = 3000\n",
        "b = 3000\n",
        "\n",
        "if b > a:\n",
        "  print(\"b es mayor que a\")\n",
        "  print(\"b vale =>\",b)\n",
        "elif a == b:\n",
        "    print(\"a es igual que b\")\n",
        "    print(\"a y b valen =>\",a)\n",
        "else:\n",
        "    print(\"a es mayor que b\")\n",
        "    print(\"a vale =>\",a)\n",
        "    print(\"Fin del if\")"
      ]
    },
    {
      "cell_type": "code",
      "source": [
        "# if en un solo renglon\n",
        "x = 50\n",
        "y = 60\n",
        "print(\"x es mayor que y\") if (x > y) else print(\"y es mayor que x\")"
      ],
      "metadata": {
        "id": "vW1-KXcEoNqn"
      },
      "execution_count": null,
      "outputs": []
    },
    {
      "cell_type": "code",
      "source": [
        "# ciclos\n",
        "# 1 while\n",
        "i = 1\n",
        "while i<=10:\n",
        "  print(i)\n",
        "  i +=1\n",
        "print(\"FUera del while\")"
      ],
      "metadata": {
        "id": "pr_zOxXWo76q"
      },
      "execution_count": null,
      "outputs": []
    },
    {
      "cell_type": "code",
      "source": [
        "#break\n",
        "i = 1\n",
        "while i<=1000:\n",
        "  print(i)\n",
        "  if i==10:\n",
        "    print(\"Entro al if \")\n",
        "    break\n",
        "    i +=1\n",
        "    print(\"FUera del while\")"
      ],
      "metadata": {
        "id": "tlN-vLwGqSZn"
      },
      "execution_count": null,
      "outputs": []
    },
    {
      "cell_type": "code",
      "source": [
        "while(True):\n",
        "  print(\"\"\"Seleccione una opcion\n",
        "  1) opcion 1\n",
        "  2)opcion  2\n",
        "  3) opcion 3\"\"\")\n",
        "  opcion = input(\"¿Cual es tu opcion deseas?\")\n",
        "  if opcion == '1':\n",
        "       print(\"Seleccionaste la opcion 1\\n\")\n",
        "  elif opcion == '2':\n",
        "      print(\"Seleccionaste la opcion 2\\n\")\n",
        "  elif opcion == '3':\n",
        "      print(\"Seleccionaste la opcion 3\\n\")\n",
        "      break\n",
        "  else:\n",
        "         print(\"Opcio desconocida vuekve intebntar \")"
      ],
      "metadata": {
        "colab": {
          "base_uri": "https://localhost:8080/"
        },
        "id": "czSEn-LWrVRU",
        "outputId": "a8947571-7949-44fa-b18e-ac2f8c641fc5"
      },
      "execution_count": 9,
      "outputs": [
        {
          "output_type": "stream",
          "name": "stdout",
          "text": [
            "Seleccione una opcion\n",
            "  1) opcion 1\n",
            "  2)opcion  2\n",
            "  3) opcion 3\n",
            "¿Cual es tu opcion deseas?3\n",
            "Seleccionaste la opcion 3\n",
            "\n"
          ]
        }
      ]
    }
  ]
}